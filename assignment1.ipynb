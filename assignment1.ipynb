{
 "cells": [
  {
   "cell_type": "markdown",
   "metadata": {},
   "source": [
    "# Assignment No: 1"
   ]
  },
  {
   "cell_type": "markdown",
   "metadata": {},
   "source": [
    "# Name    :   khalil ur rehman\n",
    "# Roll no  :  PIAIC131403"
   ]
  },
  {
   "cell_type": "code",
   "execution_count": null,
   "metadata": {},
   "outputs": [],
   "source": [
    " import numpy as np"
   ]
  },
  {
   "cell_type": "code",
   "execution_count": 6,
   "metadata": {},
   "outputs": [
    {
     "name": "stdout",
     "output_type": "stream",
     "text": [
      "1.18.5\n"
     ]
    }
   ],
   "source": [
    "print(np.__version__)"
   ]
  },
  {
   "cell_type": "markdown",
   "metadata": {},
   "source": [
    "# 50 numpy methods"
   ]
  },
  {
   "cell_type": "code",
   "execution_count": 86,
   "metadata": {},
   "outputs": [
    {
     "data": {
      "text/plain": [
       "array([15, 16, 17, 18, 19, 20, 21, 22, 23, 24, 25, 26, 27, 28, 29, 30, 31,\n",
       "       32, 33, 34, 35, 36, 37, 38, 39])"
      ]
     },
     "execution_count": 86,
     "metadata": {},
     "output_type": "execute_result"
    }
   ],
   "source": [
    "#1\n",
    "a=np.arange(15,40)\n",
    "a"
   ]
  },
  {
   "cell_type": "code",
   "execution_count": 4,
   "metadata": {},
   "outputs": [
    {
     "data": {
      "text/plain": [
       "array([0, 1, 2, 3, 4, 5, 6, 7, 8, 9])"
      ]
     },
     "execution_count": 4,
     "metadata": {},
     "output_type": "execute_result"
    }
   ],
   "source": [
    "#2 one dimentional array\n",
    "arr = np.arange(10)\n",
    "arr"
   ]
  },
  {
   "cell_type": "code",
   "execution_count": 7,
   "metadata": {},
   "outputs": [
    {
     "name": "stdout",
     "output_type": "stream",
     "text": [
      "4\n"
     ]
    }
   ],
   "source": [
    "#3 item size\n",
    "a = np.array([1,2,3])\n",
    "print(a.itemsize)"
   ]
  },
  {
   "cell_type": "code",
   "execution_count": 5,
   "metadata": {},
   "outputs": [
    {
     "name": "stdout",
     "output_type": "stream",
     "text": [
      "[[ 0  1  2]\n",
      " [ 3  4  5]\n",
      " [ 6  7  8]\n",
      " [ 9 10 11]]\n"
     ]
    }
   ],
   "source": [
    "#4\n",
    "b = np.arange(12).reshape(4,3)           \n",
    "print(b)"
   ]
  },
  {
   "cell_type": "code",
   "execution_count": 8,
   "metadata": {},
   "outputs": [
    {
     "name": "stdout",
     "output_type": "stream",
     "text": [
      "2\n"
     ]
    }
   ],
   "source": [
    "#5 Numpy Operation\n",
    "a = np.array([(1,2,3),(4,5,6)])\n",
    "print(a.ndim)"
   ]
  },
  {
   "cell_type": "code",
   "execution_count": 21,
   "metadata": {
    "scrolled": true
   },
   "outputs": [
    {
     "data": {
      "text/plain": [
       "numpy.ndarray"
      ]
     },
     "execution_count": 21,
     "metadata": {},
     "output_type": "execute_result"
    }
   ],
   "source": [
    "#6 numpy mutidimentional array\n",
    "x = [2, 3, 4, 5, 6]\n",
    "nums = np.array([2, 3, 4, 5, 6])\n",
    "type(nums)"
   ]
  },
  {
   "cell_type": "code",
   "execution_count": 87,
   "metadata": {},
   "outputs": [
    {
     "name": "stdout",
     "output_type": "stream",
     "text": [
      "int32\n"
     ]
    }
   ],
   "source": [
    "#7 data type\n",
    "a = np.array([(1,2,3)])\n",
    "print(a.dtype)"
   ]
  },
  {
   "cell_type": "code",
   "execution_count": 10,
   "metadata": {},
   "outputs": [
    {
     "name": "stdout",
     "output_type": "stream",
     "text": [
      "4\n"
     ]
    }
   ],
   "source": [
    "#8 size of array\n",
    "a=np.array([1,2,3,4])\n",
    "print(a.size)"
   ]
  },
  {
   "cell_type": "code",
   "execution_count": 13,
   "metadata": {},
   "outputs": [
    {
     "name": "stdout",
     "output_type": "stream",
     "text": [
      "(4,)\n"
     ]
    }
   ],
   "source": [
    "#9 shape of array\n",
    "a = np.array([3,4,5,4])\n",
    "print(a.shape)"
   ]
  },
  {
   "cell_type": "code",
   "execution_count": 19,
   "metadata": {},
   "outputs": [
    {
     "name": "stdout",
     "output_type": "stream",
     "text": [
      "[[1 5 3]\n",
      " [6 8 7]]\n",
      "[[1 5]\n",
      " [3 6]\n",
      " [8 7]]\n"
     ]
    }
   ],
   "source": [
    "#10 reshape of array\n",
    "a = np.array([(1,5,3),(6,8,7)])\n",
    "print(a)\n",
    "\n",
    "a = a.reshape(3,2)\n",
    "print(a)"
   ]
  },
  {
   "cell_type": "code",
   "execution_count": 20,
   "metadata": {},
   "outputs": [
    {
     "name": "stdout",
     "output_type": "stream",
     "text": [
      "[ True  True False False  True False  True False]\n"
     ]
    }
   ],
   "source": [
    "#11 Boolean Array\n",
    "bool_arr = np.array([1, 0.5, 0, None, 'a', '', True, False], dtype=bool)\n",
    "print(bool_arr)"
   ]
  },
  {
   "cell_type": "code",
   "execution_count": 25,
   "metadata": {},
   "outputs": [
    {
     "name": "stdout",
     "output_type": "stream",
     "text": [
      "[[1.         1.41421356 1.73205081]\n",
      " [2.         2.23606798 2.44948974]]\n"
     ]
    }
   ],
   "source": [
    "#12 Square Root\n",
    "a = np.array([(1,2,3),(4,5,6)])\n",
    "print(np.sqrt(a))"
   ]
  },
  {
   "cell_type": "code",
   "execution_count": 26,
   "metadata": {},
   "outputs": [
    {
     "name": "stdout",
     "output_type": "stream",
     "text": [
      "1.707825127659933\n"
     ]
    }
   ],
   "source": [
    "#13 Standard Division\n",
    "a = np.array([(1,2,3),(4,5,6)])\n",
    "print(np.std(a))"
   ]
  },
  {
   "cell_type": "code",
   "execution_count": 27,
   "metadata": {},
   "outputs": [
    {
     "name": "stdout",
     "output_type": "stream",
     "text": [
      "[0. 0. 0.]\n"
     ]
    }
   ],
   "source": [
    "#14 zero numpy array\n",
    "array1d = np.zeros(3)\n",
    "print(array1d)"
   ]
  },
  {
   "cell_type": "code",
   "execution_count": 28,
   "metadata": {},
   "outputs": [
    {
     "name": "stdout",
     "output_type": "stream",
     "text": [
      "[[1 2 3]\n",
      " [4 5 6]\n",
      " [1 2 3]\n",
      " [4 5 6]]\n"
     ]
    }
   ],
   "source": [
    "#15 Vertical stacking\n",
    "a = np.array([(1,2,3),(4,5,6)])\n",
    "b = np.array([(1,2,3),(4,5,6)])\n",
    "print(np.vstack((a,b)))"
   ]
  },
  {
   "cell_type": "code",
   "execution_count": 33,
   "metadata": {},
   "outputs": [
    {
     "name": "stdout",
     "output_type": "stream",
     "text": [
      "[[1 2 3 1 2 3]\n",
      " [4 5 6 4 5 6]]\n"
     ]
    }
   ],
   "source": [
    "#16 horizontal Stacking\n",
    "a = np.array([(1,2,3),(4,5,6)])\n",
    "b = np.array([(1,2,3),(4,5,6)])\n",
    "print(np.hstack((a,b)))"
   ]
  },
  {
   "cell_type": "code",
   "execution_count": 38,
   "metadata": {},
   "outputs": [
    {
     "name": "stdout",
     "output_type": "stream",
     "text": [
      "[[0.79267083 0.82972502 0.39052986]\n",
      " [0.01015034 0.18828172 0.45868911]\n",
      " [0.95571506 0.82369471 0.7275105 ]]\n"
     ]
    }
   ],
   "source": [
    "#17 generate random number\n",
    "print(np.random.rand(3, 3))"
   ]
  },
  {
   "cell_type": "code",
   "execution_count": 40,
   "metadata": {},
   "outputs": [
    {
     "name": "stdout",
     "output_type": "stream",
     "text": [
      "[[-1.3135772   0.49415092]\n",
      " [-0.211857    0.76722515]\n",
      " [ 1.16667769 -1.00188944]]\n"
     ]
    }
   ],
   "source": [
    "#18 normally distributed value\n",
    "print(np.random.randn(3, 2))"
   ]
  },
  {
   "cell_type": "code",
   "execution_count": 41,
   "metadata": {},
   "outputs": [
    {
     "name": "stdout",
     "output_type": "stream",
     "text": [
      "[[ 2  4  6]\n",
      " [ 8 10 12]]\n"
     ]
    }
   ],
   "source": [
    "#19 Adding Operation\n",
    "a = np.array([(1,2,3),(4,5,6)])\n",
    "b = np.array([(1,2,3),(4,5,6)])\n",
    "print(a+b)"
   ]
  },
  {
   "cell_type": "code",
   "execution_count": 88,
   "metadata": {},
   "outputs": [
    {
     "name": "stdout",
     "output_type": "stream",
     "text": [
      "[[0 0 0]\n",
      " [0 0 0]]\n"
     ]
    }
   ],
   "source": [
    "#20 Subtraction\n",
    "a = np.array([(1,2,3),(4,5,6)])\n",
    "b = np.array([(1,2,3),(4,5,6)])\n",
    "print(a-b)"
   ]
  },
  {
   "cell_type": "code",
   "execution_count": 89,
   "metadata": {},
   "outputs": [
    {
     "name": "stdout",
     "output_type": "stream",
     "text": [
      "[[ 1  4  9]\n",
      " [16 25 36]]\n"
     ]
    }
   ],
   "source": [
    "#21 Multiplication\n",
    "a = np.array([(1,2,3),(4,5,6)])\n",
    "b = np.array([(1,2,3),(4,5,6)])\n",
    "print(a*b)"
   ]
  },
  {
   "cell_type": "code",
   "execution_count": 90,
   "metadata": {},
   "outputs": [
    {
     "name": "stdout",
     "output_type": "stream",
     "text": [
      "[[1. 1. 1.]\n",
      " [1. 1. 1.]]\n"
     ]
    }
   ],
   "source": [
    "#22 Division\n",
    "a = np.array([(1,2,3),(4,5,6)])\n",
    "b = np.array([(1,2,3),(4,5,6)])\n",
    "print(a/b)"
   ]
  },
  {
   "cell_type": "code",
   "execution_count": 43,
   "metadata": {},
   "outputs": [
    {
     "name": "stdout",
     "output_type": "stream",
     "text": [
      "Wall time: 0 ns\n"
     ]
    }
   ],
   "source": [
    "#23 time function\n",
    "a = np.arange(10000000)\n",
    "a\n",
    "%time"
   ]
  },
  {
   "cell_type": "code",
   "execution_count": 45,
   "metadata": {},
   "outputs": [
    {
     "data": {
      "text/plain": [
       "array([ 4,  5,  6,  8,  9, 10])"
      ]
     },
     "execution_count": 45,
     "metadata": {},
     "output_type": "execute_result"
    }
   ],
   "source": [
    "#24 converting 2-D into 1-D array\n",
    "a = np.array([(4,5,6),(8,9,10)])\n",
    "a = a.flatten()\n",
    "a"
   ]
  },
  {
   "cell_type": "code",
   "execution_count": 46,
   "metadata": {},
   "outputs": [
    {
     "name": "stdout",
     "output_type": "stream",
     "text": [
      "[1 2 3 3 4 5]\n"
     ]
    }
   ],
   "source": [
    "#25 Ravel\n",
    "x= np.array([(1,2,3),(3,4,5)])\n",
    "print(x.ravel())"
   ]
  },
  {
   "cell_type": "code",
   "execution_count": 47,
   "metadata": {},
   "outputs": [
    {
     "data": {
      "text/plain": [
       "[[1, 2, 3], [4, 5, 6]]"
      ]
     },
     "execution_count": 47,
     "metadata": {},
     "output_type": "execute_result"
    }
   ],
   "source": [
    "#26 converting an array to a list\n",
    "a = np.array([(1,2,3),(4,5,6)])\n",
    "a = a.tolist()\n",
    "a"
   ]
  },
  {
   "cell_type": "code",
   "execution_count": 49,
   "metadata": {},
   "outputs": [
    {
     "name": "stdout",
     "output_type": "stream",
     "text": [
      "[3 3 3 3]\n",
      "[1 1 2 2 3 3 4 4]\n"
     ]
    }
   ],
   "source": [
    "#27 Repeat elements of an array\n",
    "import numpy as np\n",
    "x = np.repeat(3, 4)\n",
    "print(x)\n",
    "x = np.array([[1,2],[3,4]])\n",
    "print(np.repeat(x, 2))"
   ]
  },
  {
   "cell_type": "code",
   "execution_count": 52,
   "metadata": {},
   "outputs": [
    {
     "name": "stdout",
     "output_type": "stream",
     "text": [
      "Ar1:  [ 2 15 10 44 20 40]\n",
      "Ar2:  [12, 40, 20, 10, 20]\n",
      "Unique sorted array of values that are in either of the two input arrays:\n",
      "[ 2 10 12 15 20 40 44]\n"
     ]
    }
   ],
   "source": [
    "#28 union of two arrays\n",
    "array1 = np.array([2, 15, 10, 44, 20, 40])\n",
    "print(\"Ar1: \",array1)\n",
    "array2 = [12, 40, 20, 10, 20]\n",
    "print(\"Ar2: \",array2)\n",
    "print(\"Unique sorted array of values that are in either of the two input arrays:\")\n",
    "print(np.union1d(array1, array2))"
   ]
  },
  {
   "cell_type": "code",
   "execution_count": 53,
   "metadata": {},
   "outputs": [
    {
     "name": "stdout",
     "output_type": "stream",
     "text": [
      "Ar1:  [ 2 15 10 44 20 40]\n",
      "Ar2:  [12, 40, 20, 10, 20]\n",
      "Unique values in array1 that are not in array2:\n",
      "[ 2 15 44]\n"
     ]
    }
   ],
   "source": [
    "#29 set difference of two arrays\n",
    "array1 = np.array([2, 15, 10, 44, 20, 40])\n",
    "print(\"Ar1: \",array1)\n",
    "array2 = [12, 40, 20, 10, 20]\n",
    "print(\"Ar2: \",array2)\n",
    "print(\"Unique values in array1 that are not in array2:\")\n",
    "print(np.setdiff1d(array1, array2))"
   ]
  },
  {
   "cell_type": "code",
   "execution_count": 55,
   "metadata": {},
   "outputs": [
    {
     "data": {
      "text/plain": [
       "array([[0., 0., 0., 0., 0.],\n",
       "       [0., 0., 0., 0., 0.],\n",
       "       [0., 0., 0., 0., 0.],\n",
       "       [0., 0., 0., 0., 0.],\n",
       "       [0., 0., 0., 0., 0.]])"
      ]
     },
     "execution_count": 55,
     "metadata": {},
     "output_type": "execute_result"
    }
   ],
   "source": [
    "#30 creating an array having all values of zeros\n",
    "import numpy as np\n",
    "np.zeros((5,5))"
   ]
  },
  {
   "cell_type": "code",
   "execution_count": 57,
   "metadata": {},
   "outputs": [
    {
     "data": {
      "text/plain": [
       "array([[1., 0., 0., 0.],\n",
       "       [0., 1., 0., 0.],\n",
       "       [0., 0., 1., 0.],\n",
       "       [0., 0., 0., 1.]])"
      ]
     },
     "execution_count": 57,
     "metadata": {},
     "output_type": "execute_result"
    }
   ],
   "source": [
    "#31 creating a 4x4 diagnol array\n",
    "a = np.eye(4)\n",
    "a"
   ]
  },
  {
   "cell_type": "code",
   "execution_count": 59,
   "metadata": {},
   "outputs": [
    {
     "data": {
      "text/plain": [
       "array([[1, 1, 1],\n",
       "       [1, 1, 1],\n",
       "       [1, 1, 1]])"
      ]
     },
     "execution_count": 59,
     "metadata": {},
     "output_type": "execute_result"
    }
   ],
   "source": [
    "#32  3 x 3 array with all values one\n",
    "a = np.full((3,3),1)\n",
    "a"
   ]
  },
  {
   "cell_type": "code",
   "execution_count": 60,
   "metadata": {},
   "outputs": [
    {
     "data": {
      "text/plain": [
       "array([[1, 4],\n",
       "       [2, 5],\n",
       "       [3, 6]])"
      ]
     },
     "execution_count": 60,
     "metadata": {},
     "output_type": "execute_result"
    }
   ],
   "source": [
    "#33 transpose of 2x3 to 3x2 array\n",
    "a = np.array([1,2,3,4,5,6])\n",
    "a = a.reshape((2,3))\n",
    "a = a.T\n",
    "a"
   ]
  },
  {
   "cell_type": "code",
   "execution_count": 63,
   "metadata": {},
   "outputs": [
    {
     "data": {
      "text/plain": [
       "56"
      ]
     },
     "execution_count": 63,
     "metadata": {},
     "output_type": "execute_result"
    }
   ],
   "source": [
    "#34 for maximum value\n",
    "b = np.array([40,34,56,43])\n",
    "b = np.max(b)\n",
    "b"
   ]
  },
  {
   "cell_type": "code",
   "execution_count": 65,
   "metadata": {},
   "outputs": [
    {
     "data": {
      "text/plain": [
       "33"
      ]
     },
     "execution_count": 65,
     "metadata": {},
     "output_type": "execute_result"
    }
   ],
   "source": [
    "#35 for minimum value\n",
    "a = np.array([40,33,56,43])\n",
    "a = np.min(a)\n",
    "a"
   ]
  },
  {
   "cell_type": "code",
   "execution_count": 91,
   "metadata": {},
   "outputs": [
    {
     "name": "stdout",
     "output_type": "stream",
     "text": [
      "[3 5]\n"
     ]
    }
   ],
   "source": [
    "#36 slicing\n",
    "a=np.array([(1,2,3,4),(3,4,5,6)])\n",
    "print(a[0:,2])"
   ]
  },
  {
   "cell_type": "code",
   "execution_count": 67,
   "metadata": {},
   "outputs": [
    {
     "data": {
      "text/plain": [
       "array([[ 1.,  2.,  3.,  4.],\n",
       "       [ 5.,  6.,  7.,  8.],\n",
       "       [ 9., 10., 11., 12.]])"
      ]
     },
     "execution_count": 67,
     "metadata": {},
     "output_type": "execute_result"
    }
   ],
   "source": [
    "#37 2D array of shape 3x4 to contain decimal numbers between 1 and 12\n",
    "arr2D = np.arange(1,13,dtype='float').reshape(3,4)\n",
    "arr2D"
   ]
  },
  {
   "cell_type": "code",
   "execution_count": 68,
   "metadata": {},
   "outputs": [
    {
     "data": {
      "text/plain": [
       "array([[ 28.,  64.],\n",
       "       [ 67., 181.]])"
      ]
     },
     "execution_count": 68,
     "metadata": {},
     "output_type": "execute_result"
    }
   ],
   "source": [
    "#38 dot product of 2 matrix\n",
    "x = np.array([[1., 2., 3.], [4., 5., 6.]])\n",
    "y = np.array([[6., 23.], [-1, 7], [8, 9]])\n",
    "np.dot(x,y)"
   ]
  },
  {
   "cell_type": "code",
   "execution_count": 71,
   "metadata": {},
   "outputs": [
    {
     "name": "stdout",
     "output_type": "stream",
     "text": [
      "1\n",
      "3\n",
      "5\n",
      "7\n",
      "9\n",
      "11\n"
     ]
    }
   ],
   "source": [
    "#38 Odd number\n",
    "arr1 =np.array(range(12)) \n",
    "for i in arr1:\n",
    "    if i%2==1:\n",
    "        print(i)"
   ]
  },
  {
   "cell_type": "code",
   "execution_count": 70,
   "metadata": {},
   "outputs": [
    {
     "name": "stdout",
     "output_type": "stream",
     "text": [
      "0\n",
      "2\n",
      "4\n",
      "6\n",
      "8\n",
      "10\n"
     ]
    }
   ],
   "source": [
    "#39 Even Number\n",
    "arr1 =np.array(range(12)) \n",
    "for i in arr1:\n",
    "    if i%2==0:\n",
    "        print(i)"
   ]
  },
  {
   "cell_type": "code",
   "execution_count": 73,
   "metadata": {},
   "outputs": [
    {
     "name": "stdout",
     "output_type": "stream",
     "text": [
      "[[ 1  2  3]\n",
      " [ 4  5 15]\n",
      " [ 7  8  9]]\n"
     ]
    },
    {
     "data": {
      "text/plain": [
       "2"
      ]
     },
     "execution_count": 73,
     "metadata": {},
     "output_type": "execute_result"
    }
   ],
   "source": [
    "#40 Replace one value to another\n",
    "arr2d = np.array([[1, 2, 3],[4, 5, 6], [7, 8, 9]])\n",
    "arr2d[1,2] =  15  \n",
    "print(arr2d)\n",
    "arr2d.ndim"
   ]
  },
  {
   "cell_type": "code",
   "execution_count": 74,
   "metadata": {},
   "outputs": [
    {
     "name": "stdout",
     "output_type": "stream",
     "text": [
      "[[10 40]\n",
      " [20 50]\n",
      " [30 60]]\n"
     ]
    }
   ],
   "source": [
    "#41 Convert 1-D arrays as columns into a 2-D array\n",
    "a = np.array((10,20,30))\n",
    "b = np.array((40,50,60))\n",
    "c = np.column_stack((a, b))\n",
    "print(c)"
   ]
  },
  {
   "cell_type": "code",
   "execution_count": 75,
   "metadata": {},
   "outputs": [
    {
     "name": "stdout",
     "output_type": "stream",
     "text": [
      "Original array:\n",
      "[[ 0 10 20]\n",
      " [20 30 40]]\n",
      "Number of non zero elements in the above array:\n",
      "5\n"
     ]
    }
   ],
   "source": [
    "#42 Get the number of nonzero elements in an array\n",
    "x = np.array([[0, 10, 20], [20, 30, 40]])\n",
    "print(\"Original array:\")\n",
    "print(x)\n",
    "print(\"Number of non zero elements in the above array:\")\n",
    "print(np.count_nonzero(x))"
   ]
  },
  {
   "cell_type": "code",
   "execution_count": 76,
   "metadata": {},
   "outputs": [
    {
     "data": {
      "text/plain": [
       "array([1, 2, 3, 4, 5, 6, 7, 8, 1, 2, 3, 4, 5, 6, 7, 8, 1, 2, 3, 4, 5, 6,\n",
       "       7, 8, 1, 2, 3, 4, 5, 6, 7, 8, 1, 2, 3, 4, 5, 6, 7, 8, 1, 2, 3, 4,\n",
       "       5, 6, 7, 8])"
      ]
     },
     "execution_count": 76,
     "metadata": {},
     "output_type": "execute_result"
    }
   ],
   "source": [
    "#43 repeating the elements in array for sequences 2\n",
    "a=np.array([1, 2, 3, 4, 5, 6, 7, 8])\n",
    "np.r_[np.tile(a, 6)]"
   ]
  },
  {
   "cell_type": "code",
   "execution_count": 78,
   "metadata": {},
   "outputs": [
    {
     "data": {
      "text/plain": [
       "array([ 1,  3,  5,  7,  9, 11, 13, 15])"
      ]
     },
     "execution_count": 78,
     "metadata": {},
     "output_type": "execute_result"
    }
   ],
   "source": [
    "#44 getting comon elements from two different arrays\n",
    "a = np.array([1,2,3,4,5,6,7,8,9,10,11,12,13,14,15,16])\n",
    "b = np.array([1,3,5,7,9,11,13,15,17,19])\n",
    "np.intersect1d(a,b)"
   ]
  },
  {
   "cell_type": "code",
   "execution_count": 79,
   "metadata": {},
   "outputs": [
    {
     "data": {
      "text/plain": [
       "array([[1, 0, 2],\n",
       "       [4, 3, 5],\n",
       "       [7, 6, 8]])"
      ]
     },
     "execution_count": 79,
     "metadata": {},
     "output_type": "execute_result"
    }
   ],
   "source": [
    "#45  swaping columns in 2darray\n",
    "arr=np.arange(9).reshape(3,3)\n",
    "arr[:,[1,0,2]]"
   ]
  },
  {
   "cell_type": "code",
   "execution_count": 81,
   "metadata": {},
   "outputs": [
    {
     "data": {
      "text/plain": [
       "7.3125"
      ]
     },
     "execution_count": 81,
     "metadata": {},
     "output_type": "execute_result"
    }
   ],
   "source": [
    "#46 How to calculate mean value\n",
    "b = np.array([10,3,5,2,1,7,3,4,0,1,5,25,8,20,12,11])\n",
    "np.mean(b)"
   ]
  },
  {
   "cell_type": "code",
   "execution_count": 82,
   "metadata": {},
   "outputs": [
    {
     "data": {
      "text/plain": [
       "5.0"
      ]
     },
     "execution_count": 82,
     "metadata": {},
     "output_type": "execute_result"
    }
   ],
   "source": [
    "#47 how to calculate median\n",
    "b = np.array([10,3,5,2,1,7,3,4,0,1,5,25,8,20,12,11])\n",
    "np.median(b)"
   ]
  },
  {
   "cell_type": "code",
   "execution_count": 83,
   "metadata": {},
   "outputs": [
    {
     "data": {
      "text/plain": [
       "array([11, 15, 13,  9, 12, 22])"
      ]
     },
     "execution_count": 83,
     "metadata": {},
     "output_type": "execute_result"
    }
   ],
   "source": [
    "#48 addition of a specific value in each array element\n",
    "b = np.array([4,8,6,2,5,15])\n",
    "a = np.add(b,7)\n",
    "a"
   ]
  },
  {
   "cell_type": "code",
   "execution_count": 84,
   "metadata": {},
   "outputs": [
    {
     "data": {
      "text/plain": [
       "array([1.        , 2.64575131, 2.82842712, 2.        , 3.        ,\n",
       "       3.16227766, 4.        , 5.        ])"
      ]
     },
     "execution_count": 84,
     "metadata": {},
     "output_type": "execute_result"
    }
   ],
   "source": [
    "#49 taking square root of each element in an array\n",
    "a = np.array([1,7,8,4,9,10,16,25])\n",
    "a = np.sqrt(a)\n",
    "a"
   ]
  },
  {
   "cell_type": "code",
   "execution_count": 85,
   "metadata": {},
   "outputs": [
    {
     "data": {
      "text/plain": [
       "array([1.012, 1.6  , 1.503, 1.412])"
      ]
     },
     "execution_count": 85,
     "metadata": {},
     "output_type": "execute_result"
    }
   ],
   "source": [
    "#50 absolute value of elements in an array\n",
    "a = np.array([1.01200000,1.600,1.503000,1.4120])\n",
    "a = np.abs(a)\n",
    "a"
   ]
  },
  {
   "cell_type": "code",
   "execution_count": null,
   "metadata": {},
   "outputs": [],
   "source": []
  }
 ],
 "metadata": {
  "kernelspec": {
   "display_name": "Python 3",
   "language": "python",
   "name": "python3"
  },
  "language_info": {
   "codemirror_mode": {
    "name": "ipython",
    "version": 3
   },
   "file_extension": ".py",
   "mimetype": "text/x-python",
   "name": "python",
   "nbconvert_exporter": "python",
   "pygments_lexer": "ipython3",
   "version": "3.8.3"
  }
 },
 "nbformat": 4,
 "nbformat_minor": 4
}
